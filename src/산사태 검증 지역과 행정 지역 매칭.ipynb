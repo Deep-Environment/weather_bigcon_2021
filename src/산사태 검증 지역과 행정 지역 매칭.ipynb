{
 "cells": [
  {
   "cell_type": "markdown",
   "metadata": {},
   "source": [
    "검증 지역과 행정 지역 매칭하여 \n",
    "검증 지역 리스트에 읍면동 코드를 추가 후 저장"
   ]
  },
  {
   "cell_type": "code",
   "execution_count": 1,
   "metadata": {},
   "outputs": [],
   "source": [
    "import geopandas as gpd\n",
    "import pandas as pd"
   ]
  },
  {
   "cell_type": "code",
   "execution_count": 2,
   "metadata": {},
   "outputs": [
    {
     "name": "stderr",
     "output_type": "stream",
     "text": [
      "/home/suna/anaconda3/lib/python3.7/site-packages/IPython/core/interactiveshell.py:3063: DtypeWarning: Columns (60) have mixed types.Specify dtype option on import or set low_memory=False.\n",
      "  interactivity=interactivity, compiler=compiler, result=result)\n"
     ]
    }
   ],
   "source": [
    "# ASOS 관측 데이터\n",
    "weather = pd.read_csv('../data/기상/OBS_ASOS_DD_20210601231517.csv', encoding = 'cp949')\n",
    "# ASOS 관측소 메타 데이터\n",
    "coor = pd.read_csv('../data/기상/META_관측지점정보_20210603224446.csv',encoding='cp949')\n",
    "# 산사태 발생 이력 데이터\n",
    "land = pd.read_csv('../data/산사태 발생이력.csv', encoding = 'cp949')\n",
    "# 행정동 경계 데이터\n",
    "boundary = gpd.read_file('../data/행정동 경계/umd.shp',encoding='utf-8')\n",
    "# 결과 데이터\n",
    "test = pd.read_csv('../data/참가번호.csv',encoding='cp949')"
   ]
  },
  {
   "cell_type": "code",
   "execution_count": 3,
   "metadata": {},
   "outputs": [],
   "source": [
    "BB = pd.read_excel('../data/(공공협력분야) 데이터 정의서.xlsx',sheet_name='경상도 지역정보')\n",
    "BB.columns = BB.iloc[0]\n",
    "BB = BB.iloc[1:]"
   ]
  },
  {
   "cell_type": "code",
   "execution_count": 4,
   "metadata": {},
   "outputs": [],
   "source": [
    "landS_list = test.drop_duplicates(['sd','sgg','umd'])[['sd','sgg','umd']]"
   ]
  },
  {
   "cell_type": "code",
   "execution_count": 5,
   "metadata": {},
   "outputs": [
    {
     "name": "stdout",
     "output_type": "stream",
     "text": [
      "Total 299\n",
      "중복제거 293\n"
     ]
    }
   ],
   "source": [
    "print('Total',len(landS_list))\n",
    "print('중복제거',len(set(landS_list['umd'])))"
   ]
  },
  {
   "cell_type": "code",
   "execution_count": 6,
   "metadata": {},
   "outputs": [],
   "source": [
    "land_total = list(landS_list['umd'])\n",
    "land_only = [i for i in land_total if land_total.count(i)==1]\n",
    "land_more1 = [i for i in land_total if land_total.count(i)!=1]"
   ]
  },
  {
   "cell_type": "code",
   "execution_count": 7,
   "metadata": {},
   "outputs": [],
   "source": [
    "bound_total = list(boundary['ADM_DR_NM'])\n",
    "bound_only = [i for i in bound_total if bound_total.count(i)==1]\n",
    "bound_more1 = [i for i in bound_total if bound_total.count(i)!=1]"
   ]
  },
  {
   "cell_type": "code",
   "execution_count": 8,
   "metadata": {},
   "outputs": [],
   "source": [
    "bound_list = pd.merge(boundary,BB[['읍면동코드','시도명칭','시군구명칭','읍면동명칭',]],left_on='ADM_DR_CD',right_on='읍면동코드',how='left')\n",
    "bound_list = bound_list.drop(['BASE_DATE','geometry'],axis=1)"
   ]
  },
  {
   "cell_type": "markdown",
   "metadata": {},
   "source": [
    "검증 지역이 행정 지역에 해당되면 동코드를 추가하고  \n",
    "해당되지 않으면 print하여 살펴본다  "
   ]
  },
  {
   "cell_type": "code",
   "execution_count": 9,
   "metadata": {},
   "outputs": [
    {
     "name": "stderr",
     "output_type": "stream",
     "text": [
      "/home/suna/anaconda3/lib/python3.7/site-packages/pandas/core/indexing.py:670: SettingWithCopyWarning: \n",
      "A value is trying to be set on a copy of a slice from a DataFrame\n",
      "\n",
      "See the caveats in the documentation: https://pandas.pydata.org/pandas-docs/stable/user_guide/indexing.html#returning-a-view-versus-a-copy\n",
      "  self._setitem_with_indexer(indexer, value)\n"
     ]
    },
    {
     "name": "stdout",
     "output_type": "stream",
     "text": [
      "경상남도 거제시 삼거동\n",
      "경상남도 양산시 어곡동\n",
      "경상남도 양산시 주진동\n",
      "경상북도 경주시 시동\n",
      "경상북도 김천시 덕곡동\n",
      "경상북도 영주시 조와동\n"
     ]
    }
   ],
   "source": [
    "landS_list['ADM_DR_CD'] = 0\n",
    "for i in range(len(landS_list)):\n",
    "    umd = landS_list['umd'].iloc[i].strip(' ')\n",
    "    sgg = landS_list['sgg'].iloc[i].strip(' ')\n",
    "    sd = landS_list['sd'].iloc[i].strip(' ')\n",
    "    tmp = bound_list[bound_list['읍면동명칭']==umd]\n",
    "    tmp = tmp[tmp['시군구명칭']==sgg]\n",
    "    tmp = tmp[tmp['시도명칭']==sd]\n",
    "    if len(tmp)==1:\n",
    "        landS_list['ADM_DR_CD'].iloc[i] = tmp['ADM_DR_CD'].iloc[0]\n",
    "    else:\n",
    "        print(sd,sgg,umd)"
   ]
  },
  {
   "cell_type": "markdown",
   "metadata": {},
   "source": [
    "동코드가 겹치는 검증 지역 존재  \n",
    "이들은 결과가 서로 똑같을 것이다  "
   ]
  },
  {
   "cell_type": "code",
   "execution_count": 10,
   "metadata": {},
   "outputs": [
    {
     "name": "stdout",
     "output_type": "stream",
     "text": [
      "0 6\n",
      "3835035 2\n",
      "3840032 2\n",
      "3840032 2\n",
      "3734034 2\n",
      "3734034 2\n",
      "3701234 2\n",
      "3701232 2\n",
      "3835035 2\n",
      "0 6\n",
      "0 6\n",
      "0 6\n",
      "0 6\n",
      "0 6\n",
      "3701234 2\n",
      "3701232 2\n"
     ]
    }
   ],
   "source": [
    "tmp = list(landS_list['ADM_DR_CD'])\n",
    "for i in landS_list['ADM_DR_CD']:\n",
    "    if tmp.count(i)>1:\n",
    "        print(i,tmp.count(i))"
   ]
  },
  {
   "cell_type": "markdown",
   "metadata": {},
   "source": [
    "test 데이터에는 삼거동이 있는데 행정동 데이터에는 없다  \n",
    "찾아보니 삼거동은 거제의 법정동이라고 한다  \n",
    "삼거동은 거제면으로 변경하여 사용하기로 한다  \n",
    "어곡동은 강서동에 해당하는 법정동이다  \n",
    "어곡동은 강서동으로 변경하여 사용하기로 한다  \n",
    "주진동은 소주동에 해당하므로 소주동으로 변경한다  \n",
    "시동 > 불국동  \n",
    "덕곡동 > 지좌동  \n",
    "조와동 > 상망동"
   ]
  },
  {
   "cell_type": "code",
   "execution_count": 11,
   "metadata": {},
   "outputs": [],
   "source": [
    "landS_list = landS_list.replace('삼거동','거제면')\n",
    "landS_list = landS_list.replace('어곡동','강서동')\n",
    "landS_list = landS_list.replace('주진동','소주동')\n",
    "landS_list = landS_list.replace('시동','불국동')\n",
    "landS_list = landS_list.replace('덕곡동','지좌동')\n",
    "landS_list = landS_list.replace('조와동','상망동')"
   ]
  },
  {
   "cell_type": "code",
   "execution_count": 12,
   "metadata": {},
   "outputs": [
    {
     "data": {
      "text/html": [
       "<div>\n",
       "<style scoped>\n",
       "    .dataframe tbody tr th:only-of-type {\n",
       "        vertical-align: middle;\n",
       "    }\n",
       "\n",
       "    .dataframe tbody tr th {\n",
       "        vertical-align: top;\n",
       "    }\n",
       "\n",
       "    .dataframe thead th {\n",
       "        text-align: right;\n",
       "    }\n",
       "</style>\n",
       "<table border=\"1\" class=\"dataframe\">\n",
       "  <thead>\n",
       "    <tr style=\"text-align: right;\">\n",
       "      <th></th>\n",
       "      <th>sd</th>\n",
       "      <th>sgg</th>\n",
       "      <th>umd</th>\n",
       "      <th>ADM_DR_CD</th>\n",
       "    </tr>\n",
       "  </thead>\n",
       "  <tbody>\n",
       "    <tr>\n",
       "      <th>0</th>\n",
       "      <td>경상남도</td>\n",
       "      <td>사천시</td>\n",
       "      <td>곤명면</td>\n",
       "      <td>3806036</td>\n",
       "    </tr>\n",
       "    <tr>\n",
       "      <th>3</th>\n",
       "      <td>경상남도</td>\n",
       "      <td>사천시</td>\n",
       "      <td>곤양면</td>\n",
       "      <td>3806035</td>\n",
       "    </tr>\n",
       "    <tr>\n",
       "      <th>6</th>\n",
       "      <td>경상남도</td>\n",
       "      <td>산청군</td>\n",
       "      <td>단성면</td>\n",
       "      <td>3837037</td>\n",
       "    </tr>\n",
       "    <tr>\n",
       "      <th>9</th>\n",
       "      <td>경상남도</td>\n",
       "      <td>산청군</td>\n",
       "      <td>오부면</td>\n",
       "      <td>3837032</td>\n",
       "    </tr>\n",
       "    <tr>\n",
       "      <th>12</th>\n",
       "      <td>경상남도</td>\n",
       "      <td>하동군</td>\n",
       "      <td>악양면</td>\n",
       "      <td>3836032</td>\n",
       "    </tr>\n",
       "    <tr>\n",
       "      <th>...</th>\n",
       "      <td>...</td>\n",
       "      <td>...</td>\n",
       "      <td>...</td>\n",
       "      <td>...</td>\n",
       "    </tr>\n",
       "    <tr>\n",
       "      <th>2154</th>\n",
       "      <td>경상북도</td>\n",
       "      <td>칠곡군</td>\n",
       "      <td>가산면</td>\n",
       "      <td>3739033</td>\n",
       "    </tr>\n",
       "    <tr>\n",
       "      <th>2158</th>\n",
       "      <td>경상북도</td>\n",
       "      <td>칠곡군</td>\n",
       "      <td>동명면</td>\n",
       "      <td>3739032</td>\n",
       "    </tr>\n",
       "    <tr>\n",
       "      <th>2162</th>\n",
       "      <td>경상북도</td>\n",
       "      <td>칠곡군</td>\n",
       "      <td>석적읍</td>\n",
       "      <td>3739013</td>\n",
       "    </tr>\n",
       "    <tr>\n",
       "      <th>2182</th>\n",
       "      <td>경상북도</td>\n",
       "      <td>포항시 북구</td>\n",
       "      <td>기계면</td>\n",
       "      <td>3701234</td>\n",
       "    </tr>\n",
       "    <tr>\n",
       "      <th>2222</th>\n",
       "      <td>경상북도</td>\n",
       "      <td>포항시 북구</td>\n",
       "      <td>청하면</td>\n",
       "      <td>3701232</td>\n",
       "    </tr>\n",
       "  </tbody>\n",
       "</table>\n",
       "<p>299 rows × 4 columns</p>\n",
       "</div>"
      ],
      "text/plain": [
       "        sd     sgg   umd ADM_DR_CD\n",
       "0     경상남도     사천시   곤명면   3806036\n",
       "3     경상남도     사천시   곤양면   3806035\n",
       "6     경상남도     산청군   단성면   3837037\n",
       "9     경상남도     산청군   오부면   3837032\n",
       "12    경상남도     하동군   악양면   3836032\n",
       "...    ...     ...   ...       ...\n",
       "2154  경상북도     칠곡군   가산면   3739033\n",
       "2158  경상북도     칠곡군   동명면   3739032\n",
       "2162  경상북도     칠곡군   석적읍   3739013\n",
       "2182  경상북도  포항시 북구   기계면   3701234\n",
       "2222  경상북도  포항시 북구  청하면    3701232\n",
       "\n",
       "[299 rows x 4 columns]"
      ]
     },
     "execution_count": 12,
     "metadata": {},
     "output_type": "execute_result"
    }
   ],
   "source": [
    "landS_list"
   ]
  },
  {
   "cell_type": "code",
   "execution_count": 13,
   "metadata": {},
   "outputs": [
    {
     "name": "stderr",
     "output_type": "stream",
     "text": [
      "/home/suna/anaconda3/lib/python3.7/site-packages/pandas/core/indexing.py:670: SettingWithCopyWarning: \n",
      "A value is trying to be set on a copy of a slice from a DataFrame\n",
      "\n",
      "See the caveats in the documentation: https://pandas.pydata.org/pandas-docs/stable/user_guide/indexing.html#returning-a-view-versus-a-copy\n",
      "  self._setitem_with_indexer(indexer, value)\n"
     ]
    }
   ],
   "source": [
    "landS_list['ADM_DR_CD'] = 0\n",
    "for i in range(len(landS_list)):\n",
    "    umd = landS_list['umd'].iloc[i].strip(' ')\n",
    "    sgg = landS_list['sgg'].iloc[i].strip(' ')\n",
    "    sd = landS_list['sd'].iloc[i].strip(' ')\n",
    "    tmp = bound_list[bound_list['읍면동명칭']==umd]\n",
    "    tmp = tmp[tmp['시군구명칭']==sgg]\n",
    "    tmp = tmp[tmp['시도명칭']==sd]\n",
    "    if len(tmp)==1:\n",
    "        landS_list['ADM_DR_CD'].iloc[i] = tmp['ADM_DR_CD'].iloc[0]\n",
    "    else:\n",
    "        print(sd,sgg,umd)"
   ]
  },
  {
   "cell_type": "code",
   "execution_count": 17,
   "metadata": {},
   "outputs": [],
   "source": [
    "landS_list.to_csv('landS_with_CD.csv')"
   ]
  }
 ],
 "metadata": {
  "kernelspec": {
   "display_name": "Python 3",
   "language": "python",
   "name": "python3"
  },
  "language_info": {
   "codemirror_mode": {
    "name": "ipython",
    "version": 3
   },
   "file_extension": ".py",
   "mimetype": "text/x-python",
   "name": "python",
   "nbconvert_exporter": "python",
   "pygments_lexer": "ipython3",
   "version": "3.7.6"
  }
 },
 "nbformat": 4,
 "nbformat_minor": 4
}
